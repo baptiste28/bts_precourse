{
 "cells": [
  {
   "cell_type": "code",
   "execution_count": 1,
   "id": "53a837a5",
   "metadata": {},
   "outputs": [],
   "source": [
    "my_string = \"Barcelona Rocks!\""
   ]
  },
  {
   "cell_type": "code",
   "execution_count": 2,
   "id": "79b97711",
   "metadata": {},
   "outputs": [
    {
     "data": {
      "text/plain": [
       "'Barcelona Rocks!'"
      ]
     },
     "execution_count": 2,
     "metadata": {},
     "output_type": "execute_result"
    }
   ],
   "source": [
    "my_string"
   ]
  },
  {
   "cell_type": "code",
   "execution_count": 3,
   "id": "e6e46774",
   "metadata": {},
   "outputs": [
    {
     "data": {
      "text/plain": [
       "str"
      ]
     },
     "execution_count": 3,
     "metadata": {},
     "output_type": "execute_result"
    }
   ],
   "source": [
    "type(my_string)"
   ]
  },
  {
   "cell_type": "code",
   "execution_count": 4,
   "id": "4fb8e00a",
   "metadata": {},
   "outputs": [
    {
     "data": {
      "text/plain": [
       "16"
      ]
     },
     "execution_count": 4,
     "metadata": {},
     "output_type": "execute_result"
    }
   ],
   "source": [
    "len(my_string)"
   ]
  },
  {
   "cell_type": "code",
   "execution_count": 6,
   "id": "cb91c44e",
   "metadata": {},
   "outputs": [
    {
     "data": {
      "text/plain": [
       "str"
      ]
     },
     "execution_count": 6,
     "metadata": {},
     "output_type": "execute_result"
    }
   ],
   "source": [
    "type(my_string)"
   ]
  },
  {
   "cell_type": "code",
   "execution_count": 8,
   "id": "76d73486",
   "metadata": {},
   "outputs": [
    {
     "data": {
      "text/plain": [
       "int"
      ]
     },
     "execution_count": 8,
     "metadata": {},
     "output_type": "execute_result"
    }
   ],
   "source": [
    "type(5)\n"
   ]
  },
  {
   "cell_type": "code",
   "execution_count": 11,
   "id": "862dd3b1",
   "metadata": {},
   "outputs": [
    {
     "name": "stdout",
     "output_type": "stream",
     "text": [
      "2\n"
     ]
    },
    {
     "data": {
      "text/plain": [
       "str"
      ]
     },
     "execution_count": 11,
     "metadata": {},
     "output_type": "execute_result"
    }
   ],
   "source": [
    "number = \"30\"\n",
    "print(len(number))\n",
    "\n",
    "casted_number = int(number)\n",
    "type(number)"
   ]
  },
  {
   "cell_type": "code",
   "execution_count": 12,
   "id": "70187b05",
   "metadata": {},
   "outputs": [
    {
     "data": {
      "text/plain": [
       "'0.3333333333333333'"
      ]
     },
     "execution_count": 12,
     "metadata": {},
     "output_type": "execute_result"
    }
   ],
   "source": [
    "str(1/3)"
   ]
  },
  {
   "cell_type": "code",
   "execution_count": 14,
   "id": "38377c37",
   "metadata": {},
   "outputs": [
    {
     "name": "stdout",
     "output_type": "stream",
     "text": [
      "<class 'str'>\n"
     ]
    }
   ],
   "source": [
    "print(type(str(1/3)))"
   ]
  },
  {
   "cell_type": "code",
   "execution_count": 15,
   "id": "23afd050",
   "metadata": {},
   "outputs": [
    {
     "name": "stdout",
     "output_type": "stream",
     "text": [
      "Help on method_descriptor:\n",
      "\n",
      "replace(self, old, new, count=-1, /)\n",
      "    Return a copy with all occurrences of substring old replaced by new.\n",
      "    \n",
      "      count\n",
      "        Maximum number of occurrences to replace.\n",
      "        -1 (the default value) means replace all occurrences.\n",
      "    \n",
      "    If the optional argument count is given, only the first count occurrences are\n",
      "    replaced.\n",
      "\n"
     ]
    }
   ],
   "source": [
    "help(str.replace)"
   ]
  },
  {
   "cell_type": "code",
   "execution_count": 16,
   "id": "45ec4fcc",
   "metadata": {},
   "outputs": [
    {
     "data": {
      "text/plain": [
       "'B?rcelon? Rocks!'"
      ]
     },
     "execution_count": 16,
     "metadata": {},
     "output_type": "execute_result"
    }
   ],
   "source": [
    "my_string.replace('a','?')"
   ]
  },
  {
   "cell_type": "code",
   "execution_count": 17,
   "id": "7eee61ba",
   "metadata": {},
   "outputs": [
    {
     "data": {
      "text/plain": [
       "'Barcelona Rocks!'"
      ]
     },
     "execution_count": 17,
     "metadata": {},
     "output_type": "execute_result"
    }
   ],
   "source": [
    "my_string"
   ]
  },
  {
   "cell_type": "code",
   "execution_count": 18,
   "id": "c41a94d6",
   "metadata": {},
   "outputs": [
    {
     "name": "stdout",
     "output_type": "stream",
     "text": [
      "B?rcelon? Rocks!\n"
     ]
    }
   ],
   "source": [
    "my_modified_string = my_string.replace('a','?')\n",
    "print(my_modified_string)"
   ]
  },
  {
   "cell_type": "code",
   "execution_count": 19,
   "id": "11387ce9",
   "metadata": {},
   "outputs": [
    {
     "ename": "NameError",
     "evalue": "name 'Warriors' is not defined",
     "output_type": "error",
     "traceback": [
      "\u001b[1;31m---------------------------------------------------------------------------\u001b[0m",
      "\u001b[1;31mNameError\u001b[0m                                 Traceback (most recent call last)",
      "\u001b[1;32m<ipython-input-19-9b6ef8cbc3e8>\u001b[0m in \u001b[0;36m<module>\u001b[1;34m\u001b[0m\n\u001b[1;32m----> 1\u001b[1;33m \u001b[0mWarriors\u001b[0m \u001b[1;33m+\u001b[0m \u001b[0mSuns\u001b[0m\u001b[1;33m\u001b[0m\u001b[1;33m\u001b[0m\u001b[0m\n\u001b[0m",
      "\u001b[1;31mNameError\u001b[0m: name 'Warriors' is not defined"
     ]
    }
   ],
   "source": [
    "Warriors + Suns"
   ]
  },
  {
   "cell_type": "code",
   "execution_count": 20,
   "id": "63e4a2c7",
   "metadata": {},
   "outputs": [
    {
     "name": "stdout",
     "output_type": "stream",
     "text": [
      "Warriors\n",
      "Suns\n"
     ]
    }
   ],
   "source": [
    "print(\"Warriors\")\n",
    "print('Suns')"
   ]
  },
  {
   "cell_type": "code",
   "execution_count": 21,
   "id": "263dd7e5",
   "metadata": {},
   "outputs": [
    {
     "name": "stdout",
     "output_type": "stream",
     "text": [
      "Barcelona Rocks! B?rcelon? Rocks!\n"
     ]
    }
   ],
   "source": [
    "print(my_string, my_modified_string)"
   ]
  },
  {
   "cell_type": "code",
   "execution_count": 23,
   "id": "c31ff488",
   "metadata": {},
   "outputs": [
    {
     "name": "stdout",
     "output_type": "stream",
     "text": [
      "Python is cool\n"
     ]
    }
   ],
   "source": [
    "secret = '{} is cool'.format('Python')\n",
    "print(secret)"
   ]
  },
  {
   "cell_type": "code",
   "execution_count": 24,
   "id": "068d0e4b",
   "metadata": {},
   "outputs": [
    {
     "name": "stdout",
     "output_type": "stream",
     "text": [
      "1 + 2 + 3\n"
     ]
    }
   ],
   "source": [
    "print('{} + {} + {}'.format('1','2','3'))"
   ]
  },
  {
   "cell_type": "code",
   "execution_count": 26,
   "id": "13c0fae0",
   "metadata": {},
   "outputs": [
    {
     "name": "stdout",
     "output_type": "stream",
     "text": [
      "pandas,numpy,requests\n"
     ]
    }
   ],
   "source": [
    "pandas = 'pandas'\n",
    "numpy = 'numpy'\n",
    "requests = 'requests'\n",
    "cool_python_libs = ','.join([pandas,numpy,requests])\n",
    "print(cool_python_libs)"
   ]
  },
  {
   "cell_type": "code",
   "execution_count": 27,
   "id": "e52315c0",
   "metadata": {},
   "outputs": [
    {
     "data": {
      "text/plain": [
       "'2nd - 1st'"
      ]
     },
     "execution_count": 27,
     "metadata": {},
     "output_type": "execute_result"
    }
   ],
   "source": [
    "'{1} - {0}'.format('1st','2nd')"
   ]
  },
  {
   "cell_type": "code",
   "execution_count": 30,
   "id": "fed54484",
   "metadata": {},
   "outputs": [
    {
     "name": "stdout",
     "output_type": "stream",
     "text": [
      "2.1 3.4 7.14\n",
      "12.64\n"
     ]
    }
   ],
   "source": [
    "a = 2.1\n",
    "b = 3.4\n",
    "print(str(a) + \" \" + str(b) + \" \" + str(a*b))\n",
    "print(a + b + (a*b))"
   ]
  },
  {
   "cell_type": "code",
   "execution_count": 31,
   "id": "81210c99",
   "metadata": {},
   "outputs": [
    {
     "name": "stdout",
     "output_type": "stream",
     "text": [
      "PYTHON HACKER\n",
      "python hacker\n",
      "Python Hacker\n"
     ]
    }
   ],
   "source": [
    "mixed_case = 'PyTHoN hackER'\n",
    "print(mixed_case.upper())\n",
    "print(mixed_case.lower())\n",
    "print(mixed_case.title())"
   ]
  },
  {
   "cell_type": "code",
   "execution_count": 38,
   "id": "a267d2a4",
   "metadata": {
    "scrolled": true
   },
   "outputs": [
    {
     "name": "stdout",
     "output_type": "stream",
     "text": [
      "['three', 'different', 'words']\n"
     ]
    }
   ],
   "source": [
    "sentence = 'three, different, words'\n",
    "words = sentence.split(', ')\n",
    "print(words)"
   ]
  },
  {
   "cell_type": "code",
   "execution_count": 42,
   "id": "61a7880b",
   "metadata": {},
   "outputs": [
    {
     "name": "stdout",
     "output_type": "stream",
     "text": [
      "this looks good\n"
     ]
    }
   ],
   "source": [
    "ugly_mixed_case = '   ThIS LooKs BAd    '\n",
    "pretty = ugly_mixed_case.strip().lower().replace('bad','good')\n",
    "print(pretty)"
   ]
  },
  {
   "cell_type": "code",
   "execution_count": 53,
   "id": "0e023f35",
   "metadata": {},
   "outputs": [
    {
     "name": "stdout",
     "output_type": "stream",
     "text": [
      "value: 6.33, type: <class 'float'>\n"
     ]
    }
   ],
   "source": [
    "my_int = 6.33\n",
    "print('value: {}, type: {}'.format(my_int, type(my_int)))\n",
    "      "
   ]
  },
  {
   "cell_type": "code",
   "execution_count": 45,
   "id": "81dacf3b",
   "metadata": {},
   "outputs": [
    {
     "name": "stdout",
     "output_type": "stream",
     "text": [
      "value: 6.0, type: <class 'float'>\n"
     ]
    }
   ],
   "source": [
    "my_float = float(my_int)\n",
    "print('value: {}, type: {}'.format(my_float, type(my_float)))"
   ]
  },
  {
   "cell_type": "code",
   "execution_count": 48,
   "id": "c4163259",
   "metadata": {},
   "outputs": [
    {
     "name": "stdout",
     "output_type": "stream",
     "text": [
      "1.0\n",
      "1.2\n"
     ]
    }
   ],
   "source": [
    "print(1/1)\n",
    "print(6/5)"
   ]
  },
  {
   "cell_type": "code",
   "execution_count": 49,
   "id": "16173f4c",
   "metadata": {},
   "outputs": [],
   "source": [
    "val = 0.1 + 0.1 + 0.1"
   ]
  },
  {
   "cell_type": "code",
   "execution_count": 50,
   "id": "2075e895",
   "metadata": {},
   "outputs": [
    {
     "name": "stdout",
     "output_type": "stream",
     "text": [
      "False\n",
      "0.30000000000000004\n"
     ]
    }
   ],
   "source": [
    "print(val==0.3)\n",
    "print(val)"
   ]
  },
  {
   "cell_type": "code",
   "execution_count": 54,
   "id": "6f9e23d9",
   "metadata": {},
   "outputs": [
    {
     "data": {
      "text/plain": [
       "1"
      ]
     },
     "execution_count": 54,
     "metadata": {},
     "output_type": "execute_result"
    }
   ],
   "source": [
    "7 // 5"
   ]
  },
  {
   "cell_type": "code",
   "execution_count": 55,
   "id": "985688e7",
   "metadata": {},
   "outputs": [
    {
     "data": {
      "text/plain": [
       "1"
      ]
     },
     "execution_count": 55,
     "metadata": {},
     "output_type": "execute_result"
    }
   ],
   "source": [
    "1 // 1"
   ]
  },
  {
   "cell_type": "code",
   "execution_count": 58,
   "id": "c6e03366",
   "metadata": {},
   "outputs": [
    {
     "data": {
      "text/plain": [
       "3"
      ]
     },
     "execution_count": 58,
     "metadata": {},
     "output_type": "execute_result"
    }
   ],
   "source": [
    "8 % 5"
   ]
  },
  {
   "cell_type": "code",
   "execution_count": 57,
   "id": "4598c5dc",
   "metadata": {},
   "outputs": [
    {
     "data": {
      "text/plain": [
       "8"
      ]
     },
     "execution_count": 57,
     "metadata": {},
     "output_type": "execute_result"
    }
   ],
   "source": [
    "2 ** 3 "
   ]
  },
  {
   "cell_type": "code",
   "execution_count": 60,
   "id": "6015e23c",
   "metadata": {},
   "outputs": [
    {
     "ename": "NameError",
     "evalue": "name 'Decimal' is not defined",
     "output_type": "error",
     "traceback": [
      "\u001b[1;31m---------------------------------------------------------------------------\u001b[0m",
      "\u001b[1;31mNameError\u001b[0m                                 Traceback (most recent call last)",
      "\u001b[1;32m<ipython-input-60-655012e10169>\u001b[0m in \u001b[0;36m<module>\u001b[1;34m\u001b[0m\n\u001b[1;32m----> 1\u001b[1;33m \u001b[0mmy_decimal\u001b[0m \u001b[1;33m=\u001b[0m \u001b[0mDecimal\u001b[0m\u001b[1;33m(\u001b[0m\u001b[1;34m'0.1'\u001b[0m\u001b[1;33m)\u001b[0m\u001b[1;33m\u001b[0m\u001b[1;33m\u001b[0m\u001b[0m\n\u001b[0m\u001b[0;32m      2\u001b[0m \u001b[0mprint\u001b[0m\u001b[1;33m(\u001b[0m\u001b[0mmy_decimal\u001b[0m\u001b[1;33m)\u001b[0m\u001b[1;33m\u001b[0m\u001b[1;33m\u001b[0m\u001b[0m\n",
      "\u001b[1;31mNameError\u001b[0m: name 'Decimal' is not defined"
     ]
    }
   ],
   "source": [
    "my_decimal = Decimal('0.1')\n",
    "print(my_decimal)"
   ]
  },
  {
   "cell_type": "code",
   "execution_count": 61,
   "id": "973736a0",
   "metadata": {},
   "outputs": [
    {
     "name": "stdout",
     "output_type": "stream",
     "text": [
      "type of True and False: <class 'bool'>\n"
     ]
    }
   ],
   "source": [
    "print('type of True and False: {}'.format(type(True)))"
   ]
  },
  {
   "cell_type": "code",
   "execution_count": 62,
   "id": "954c14c5",
   "metadata": {},
   "outputs": [
    {
     "data": {
      "text/plain": [
       "True"
      ]
     },
     "execution_count": 62,
     "metadata": {},
     "output_type": "execute_result"
    }
   ],
   "source": [
    "bool(1)"
   ]
  },
  {
   "cell_type": "code",
   "execution_count": 63,
   "id": "a2b04656",
   "metadata": {},
   "outputs": [
    {
     "data": {
      "text/plain": [
       "False"
      ]
     },
     "execution_count": 63,
     "metadata": {},
     "output_type": "execute_result"
    }
   ],
   "source": [
    "bool()"
   ]
  },
  {
   "cell_type": "code",
   "execution_count": 64,
   "id": "bb791243",
   "metadata": {},
   "outputs": [
    {
     "data": {
      "text/plain": [
       "False"
      ]
     },
     "execution_count": 64,
     "metadata": {},
     "output_type": "execute_result"
    }
   ],
   "source": [
    "bool(0)"
   ]
  },
  {
   "cell_type": "code",
   "execution_count": 65,
   "id": "47747695",
   "metadata": {},
   "outputs": [
    {
     "ename": "NameError",
     "evalue": "name 'password' is not defined",
     "output_type": "error",
     "traceback": [
      "\u001b[1;31m---------------------------------------------------------------------------\u001b[0m",
      "\u001b[1;31mNameError\u001b[0m                                 Traceback (most recent call last)",
      "\u001b[1;32m<ipython-input-65-816ab91ae984>\u001b[0m in \u001b[0;36m<module>\u001b[1;34m\u001b[0m\n\u001b[0;32m      1\u001b[0m \u001b[0mjava_is_cool\u001b[0m \u001b[1;33m=\u001b[0m \u001b[0mbool\u001b[0m\u001b[1;33m(\u001b[0m\u001b[1;36m1\u001b[0m\u001b[1;33m)\u001b[0m\u001b[1;33m\u001b[0m\u001b[1;33m\u001b[0m\u001b[0m\n\u001b[1;32m----> 2\u001b[1;33m \u001b[0mprint\u001b[0m\u001b[1;33m(\u001b[0m\u001b[0mbool\u001b[0m\u001b[1;33m(\u001b[0m\u001b[1;32mnot\u001b[0m \u001b[0mjava_is_cool\u001b[0m \u001b[1;32mor\u001b[0m \u001b[0mpassword\u001b[0m \u001b[1;32mand\u001b[0m \u001b[0mpython_is_cool\u001b[0m \u001b[1;32mor\u001b[0m \u001b[0mempty_list\u001b[0m\u001b[1;33m)\u001b[0m\u001b[1;33m)\u001b[0m\u001b[1;33m\u001b[0m\u001b[1;33m\u001b[0m\u001b[0m\n\u001b[0m",
      "\u001b[1;31mNameError\u001b[0m: name 'password' is not defined"
     ]
    }
   ],
   "source": [
    "java_is_cool = bool(1)\n",
    "print(bool(not java_is_cool or password and python_is_cool or empty_list))"
   ]
  },
  {
   "cell_type": "code",
   "execution_count": 69,
   "id": "8b150cc1",
   "metadata": {},
   "outputs": [
    {
     "name": "stdout",
     "output_type": "stream",
     "text": [
      "False\n"
     ]
    }
   ],
   "source": [
    "java_is_cool = False\n",
    "print(java_is_cool)\n",
    "\n"
   ]
  },
  {
   "cell_type": "code",
   "execution_count": 74,
   "id": "56f7e32c",
   "metadata": {},
   "outputs": [
    {
     "name": "stdout",
     "output_type": "stream",
     "text": [
      "statement in not True\n"
     ]
    }
   ],
   "source": [
    "statement = False\n",
    "\n",
    "statement = 3 < 2\n",
    "if statement:\n",
    "    print('statement is True')\n",
    "    \n",
    "if not statement:\n",
    "    print('statement in not True')"
   ]
  },
  {
   "cell_type": "code",
   "execution_count": null,
   "id": "93d2c705",
   "metadata": {},
   "outputs": [],
   "source": []
  }
 ],
 "metadata": {
  "kernelspec": {
   "display_name": "Python 3",
   "language": "python",
   "name": "python3"
  },
  "language_info": {
   "codemirror_mode": {
    "name": "ipython",
    "version": 3
   },
   "file_extension": ".py",
   "mimetype": "text/x-python",
   "name": "python",
   "nbconvert_exporter": "python",
   "pygments_lexer": "ipython3",
   "version": "3.8.8"
  }
 },
 "nbformat": 4,
 "nbformat_minor": 5
}
