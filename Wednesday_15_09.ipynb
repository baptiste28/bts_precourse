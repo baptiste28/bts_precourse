{
 "cells": [
  {
   "cell_type": "code",
   "execution_count": 59,
   "id": "347ac9b4",
   "metadata": {},
   "outputs": [
    {
     "name": "stdout",
     "output_type": "stream",
     "text": [
      "1\n",
      "2\n",
      "3\n",
      "4\n",
      "Python\n",
      "is\n",
      "neat\n",
      "1\n",
      "2\n",
      "3\n",
      "4\n"
     ]
    }
   ],
   "source": [
    "my_list = [1, 2, 3, 4, 'Python', 'is', 'neat']\n",
    "for item in my_list:\n",
    "    print(item)\n",
    "    \n",
    "for item in my_list:\n",
    "    if isinstance(item,str):\n",
    "        continue\n",
    "    print(item)"
   ]
  },
  {
   "cell_type": "code",
   "execution_count": 3,
   "id": "453fd235",
   "metadata": {},
   "outputs": [
    {
     "name": "stdout",
     "output_type": "stream",
     "text": [
      "1\n",
      "2\n",
      "3\n",
      "4\n"
     ]
    }
   ],
   "source": [
    "for item in my_list:\n",
    "    if item == 'Pyhton':\n",
    "        break\n",
    "    print(item)"
   ]
  },
  {
   "cell_type": "code",
   "execution_count": 4,
   "id": "58a4b9d5",
   "metadata": {},
   "outputs": [
    {
     "name": "stdout",
     "output_type": "stream",
     "text": [
      "2\n",
      "3\n",
      "4\n",
      "Pyhton\n",
      "is\n",
      "neat\n",
      " \n"
     ]
    }
   ],
   "source": [
    "for item in my_list:\n",
    "    if item == 1:\n",
    "        continue\n",
    "    print(item)\n",
    "    \n",
    "print(\" \")   "
   ]
  },
  {
   "cell_type": "code",
   "execution_count": 9,
   "id": "9b7159ac",
   "metadata": {},
   "outputs": [
    {
     "name": "stdout",
     "output_type": "stream",
     "text": [
      "['Bucks', 'Suns', 'Clippers', 'Nets']\n"
     ]
    }
   ],
   "source": [
    "list_NBA = ['Bucks', \"Suns\", \"Clippers\", \"Nets\"]\n",
    "print(list_NBA)"
   ]
  },
  {
   "cell_type": "code",
   "execution_count": 14,
   "id": "b4bc476f",
   "metadata": {},
   "outputs": [
    {
     "name": "stdout",
     "output_type": "stream",
     "text": [
      "<enumerate object at 0x0000023F57DE3700>\n",
      "index:0, value:1\n",
      "index:1, value:2\n",
      "index:2, value:3\n",
      "index:3, value:4\n",
      "index:4, value:Pyhton\n",
      "index:5, value:is\n",
      "index:6, value:neat\n"
     ]
    }
   ],
   "source": [
    "print(enumerate(my_list))\n",
    "\n",
    "for i, val in enumerate(my_list):\n",
    "    print(\"index:{}, value:{}\".format(i,val))"
   ]
  },
  {
   "cell_type": "code",
   "execution_count": 15,
   "id": "35538dd4",
   "metadata": {},
   "outputs": [
    {
     "ename": "NameError",
     "evalue": "name 'my_enumerate' is not defined",
     "output_type": "error",
     "traceback": [
      "\u001b[1;31m---------------------------------------------------------------------------\u001b[0m",
      "\u001b[1;31mNameError\u001b[0m                                 Traceback (most recent call last)",
      "\u001b[1;32m<ipython-input-15-c6c149b91460>\u001b[0m in \u001b[0;36m<module>\u001b[1;34m\u001b[0m\n\u001b[0;32m      1\u001b[0m \u001b[0mseasons\u001b[0m \u001b[1;33m=\u001b[0m \u001b[1;33m[\u001b[0m\u001b[1;34m\"Spring\"\u001b[0m\u001b[1;33m,\u001b[0m \u001b[1;34m\"Summer\"\u001b[0m\u001b[1;33m,\u001b[0m \u001b[1;34m\"Fall\"\u001b[0m\u001b[1;33m,\u001b[0m \u001b[1;34m\"Winter\"\u001b[0m\u001b[1;33m]\u001b[0m\u001b[1;33m\u001b[0m\u001b[1;33m\u001b[0m\u001b[0m\n\u001b[1;32m----> 2\u001b[1;33m \u001b[0mlist\u001b[0m\u001b[1;33m(\u001b[0m\u001b[0mmy_enumerate\u001b[0m\u001b[1;33m(\u001b[0m\u001b[0mseasons\u001b[0m\u001b[1;33m)\u001b[0m\u001b[1;33m)\u001b[0m\u001b[1;33m\u001b[0m\u001b[1;33m\u001b[0m\u001b[0m\n\u001b[0m",
      "\u001b[1;31mNameError\u001b[0m: name 'my_enumerate' is not defined"
     ]
    }
   ],
   "source": [
    "seasons = [\"Spring\", \"Summer\", \"Fall\", \"Winter\"]\n",
    "list(my_enumerate(seasons))\n"
   ]
  },
  {
   "cell_type": "code",
   "execution_count": 16,
   "id": "83cea56e",
   "metadata": {},
   "outputs": [
    {
     "data": {
      "text/plain": [
       "range(0, 5)"
      ]
     },
     "execution_count": 16,
     "metadata": {},
     "output_type": "execute_result"
    }
   ],
   "source": [
    "range(5)"
   ]
  },
  {
   "cell_type": "code",
   "execution_count": 17,
   "id": "98ea3b28",
   "metadata": {},
   "outputs": [
    {
     "name": "stdout",
     "output_type": "stream",
     "text": [
      "here\n",
      "was\n",
      "Doe\n",
      "John\n"
     ]
    }
   ],
   "source": [
    "data = [\"John\" , \"Doe\", \"was\",\"here\"]\n",
    "i = len(data) - 1\n",
    "while i >= 0:\n",
    "    print(data[i])\n",
    "    i -= 1"
   ]
  },
  {
   "cell_type": "code",
   "execution_count": 18,
   "id": "2688849c",
   "metadata": {},
   "outputs": [],
   "source": [
    "collection1 = ['a','b','c','d']\n",
    "collection2 = [10,20,30,40,50]\n",
    "collection3 = ['John', 'Doe', True]\n"
   ]
  },
  {
   "cell_type": "code",
   "execution_count": 20,
   "id": "4a7ff9e1",
   "metadata": {},
   "outputs": [
    {
     "name": "stdout",
     "output_type": "stream",
     "text": [
      "3\n",
      "a 10 John\n",
      "b 20 Doe\n",
      "c 30 True\n"
     ]
    },
    {
     "ename": "IndexError",
     "evalue": "list index out of range",
     "output_type": "error",
     "traceback": [
      "\u001b[1;31m---------------------------------------------------------------------------\u001b[0m",
      "\u001b[1;31mIndexError\u001b[0m                                Traceback (most recent call last)",
      "\u001b[1;32m<ipython-input-20-09a9b2f804c1>\u001b[0m in \u001b[0;36m<module>\u001b[1;34m\u001b[0m\n\u001b[0;32m      9\u001b[0m \u001b[0mi\u001b[0m \u001b[1;33m=\u001b[0m \u001b[1;36m0\u001b[0m\u001b[1;33m\u001b[0m\u001b[1;33m\u001b[0m\u001b[0m\n\u001b[0;32m     10\u001b[0m \u001b[1;32mwhile\u001b[0m \u001b[0mi\u001b[0m \u001b[1;33m<\u001b[0m\u001b[1;36m6\u001b[0m\u001b[1;33m:\u001b[0m\u001b[1;33m\u001b[0m\u001b[1;33m\u001b[0m\u001b[0m\n\u001b[1;32m---> 11\u001b[1;33m     \u001b[0mprint\u001b[0m\u001b[1;33m(\u001b[0m\u001b[0mcollection1\u001b[0m\u001b[1;33m[\u001b[0m\u001b[0mi\u001b[0m\u001b[1;33m]\u001b[0m\u001b[1;33m,\u001b[0m \u001b[0mcollection2\u001b[0m\u001b[1;33m[\u001b[0m\u001b[0mi\u001b[0m\u001b[1;33m]\u001b[0m\u001b[1;33m,\u001b[0m \u001b[0mcollection3\u001b[0m\u001b[1;33m[\u001b[0m\u001b[0mi\u001b[0m\u001b[1;33m]\u001b[0m\u001b[1;33m)\u001b[0m\u001b[1;33m\u001b[0m\u001b[1;33m\u001b[0m\u001b[0m\n\u001b[0m\u001b[0;32m     12\u001b[0m     \u001b[0mi\u001b[0m \u001b[1;33m+=\u001b[0m \u001b[1;36m1\u001b[0m\u001b[1;33m\u001b[0m\u001b[1;33m\u001b[0m\u001b[0m\n",
      "\u001b[1;31mIndexError\u001b[0m: list index out of range"
     ]
    }
   ],
   "source": [
    "shortest = len(collection1)\n",
    "if len(collection2) < shortest:\n",
    "    shortest = len(collection2)\n",
    "if len(collection3) < shortest:\n",
    "    shortest = len(collection3)\n",
    "\n",
    "print(shortest)\n",
    "\n",
    "i = 0\n",
    "while i <6:\n",
    "    print(collection1[i], collection2[i], collection3[i])\n",
    "    i += 1"
   ]
  },
  {
   "cell_type": "code",
   "execution_count": 21,
   "id": "e6eab61f",
   "metadata": {},
   "outputs": [
    {
     "name": "stdout",
     "output_type": "stream",
     "text": [
      "a 10 John\n",
      "b 20 Doe\n",
      "c 30 True\n"
     ]
    }
   ],
   "source": [
    "for first, second, third in zip(collection1,collection2,collection3):\n",
    "    print(first,second,third)"
   ]
  },
  {
   "cell_type": "code",
   "execution_count": 53,
   "id": "96981d51",
   "metadata": {},
   "outputs": [
    {
     "name": "stdout",
     "output_type": "stream",
     "text": [
      "2002,2009,2016,2023,2037,2044,2051,2058,2072,2079,2086,2093,2107,2114,2121,2128,2142,2149,2156,2163,2177,2184,2191,2198,2212,2219,2226,2233,2247,2254,2261,2268,2282,2289,2296,2303,2317,2324,2331,2338,2352,2359,2366,2373,2387,2394,2401,2408,2422,2429,2436,2443,2457,2464,2471,2478,2492,2499,2506,2513,2527,2534,2541,2548,2562,2569,2576,2583,2597,2604,2611,2618,2632,2639,2646,2653,2667,2674,2681,2688,2702,2709,2716,2723,2737,2744,2751,2758,2772,2779,2786,2793,2807,2814,2821,2828,2842,2849,2856,2863,2877,2884,2891,2898,2912,2919,2926,2933,2947,2954,2961,2968,2982,2989,2996,3003,3017,3024,3031,3038,3052,3059,3066,3073,3087,3094,3101,3108,3122,3129,3136,3143,3157,3164,3171,3178,3192,3199\n"
     ]
    }
   ],
   "source": [
    "result = []\n",
    "#list(range(2000,3201))\n",
    "\n",
    "for i in range(2000,3201):\n",
    "    if (i % 7 == 0) and (i%5 != 0):\n",
    "    #if i % 7 ==0 and i % 5 !=0:\n",
    "        result.append(str(i))\n",
    "\n",
    "print(\",\".join(result))"
   ]
  },
  {
   "cell_type": "code",
   "execution_count": 54,
   "id": "709cbe6b",
   "metadata": {},
   "outputs": [
    {
     "name": "stdout",
     "output_type": "stream",
     "text": [
      "*\n"
     ]
    }
   ],
   "source": [
    "n = 5\n",
    "\n",
    "print(\"*\")"
   ]
  },
  {
   "cell_type": "code",
   "execution_count": 55,
   "id": "e0a21619",
   "metadata": {},
   "outputs": [
    {
     "ename": "SyntaxError",
     "evalue": "invalid syntax (<ipython-input-55-c9656572adbc>, line 3)",
     "output_type": "error",
     "traceback": [
      "\u001b[1;36m  File \u001b[1;32m\"<ipython-input-55-c9656572adbc>\"\u001b[1;36m, line \u001b[1;32m3\u001b[0m\n\u001b[1;33m    for i in range(0,(2*n-1))\u001b[0m\n\u001b[1;37m                             ^\u001b[0m\n\u001b[1;31mSyntaxError\u001b[0m\u001b[1;31m:\u001b[0m invalid syntax\n"
     ]
    }
   ],
   "source": [
    "stars = []\n",
    "\n",
    "for i in range(0,(2*n-1))\n",
    "    print(\"\")\n",
    "    \n",
    "print()\n",
    "\n",
    "\n"
   ]
  },
  {
   "cell_type": "code",
   "execution_count": 66,
   "id": "60df88e9",
   "metadata": {},
   "outputs": [
    {
     "name": "stdout",
     "output_type": "stream",
     "text": [
      "5\n"
     ]
    }
   ],
   "source": [
    "my_list = [\"*\", \"**\", \"***\"]\n",
    "\n",
    "n = 5\n",
    "\n",
    "my_list = [n]\n",
    "\n",
    "for item in my_list:\n",
    "    print(item)"
   ]
  },
  {
   "cell_type": "code",
   "execution_count": 91,
   "id": "d9131a92",
   "metadata": {},
   "outputs": [
    {
     "name": "stdout",
     "output_type": "stream",
     "text": [
      "\n",
      "*\n",
      "**\n",
      "***\n",
      "****\n",
      "*****\n",
      "****\n",
      "***\n",
      "**\n",
      "*\n"
     ]
    }
   ],
   "source": [
    "n = 5;\n",
    "for i in range(n+1):\n",
    "    string = \"\"\n",
    "    for j in range(i):\n",
    "        string += \"*\"\n",
    "        #print('*',end='')\n",
    "    print(string)\n",
    "\n",
    "for i in range(n-1,0,-1):\n",
    "    for j in range(i):\n",
    "        print('*',end='')\n",
    "    print('')"
   ]
  },
  {
   "cell_type": "code",
   "execution_count": 103,
   "id": "9e5a6b39",
   "metadata": {},
   "outputs": [
    {
     "name": "stdout",
     "output_type": "stream",
     "text": [
      "multiplication table of?\n",
      "5\n",
      "0  *  5  =  0\n",
      "1  *  5  =  5\n",
      "2  *  5  =  10\n",
      "3  *  5  =  15\n",
      "4  *  5  =  20\n",
      "5  *  5  =  25\n",
      "6  *  5  =  30\n",
      "7  *  5  =  35\n",
      "8  *  5  =  40\n",
      "9  *  5  =  45\n",
      "10  *  5  =  50\n"
     ]
    }
   ],
   "source": [
    "print(\"multiplication table of?\")\n",
    "table = input()\n",
    "for i in range(11):\n",
    "    print(i,\" * \", table , \" = \", i*int(table))"
   ]
  },
  {
   "cell_type": "code",
   "execution_count": 109,
   "id": "fcac4088",
   "metadata": {},
   "outputs": [
    {
     "name": "stdout",
     "output_type": "stream",
     "text": [
      "Please enter your password\n",
      "5\n",
      "Incorrect password\n"
     ]
    }
   ],
   "source": [
    "correct_password = \"xxx\"\n",
    "\n",
    "print(\"Please enter your password\")\n",
    "\n",
    "att_password = input()\n",
    "\n",
    "if att_password == correct_password:\n",
    "    print(\"Login successful\")\n",
    "\n",
    "else:\n",
    "    print(\"Incorrect password\")\n"
   ]
  },
  {
   "cell_type": "code",
   "execution_count": 99,
   "id": "ecb610ce",
   "metadata": {},
   "outputs": [
    {
     "data": {
      "text/plain": [
       "False"
      ]
     },
     "execution_count": 99,
     "metadata": {},
     "output_type": "execute_result"
    }
   ],
   "source": [
    "correct_password = \"xxx\"\n",
    "bool(\"xx4x\" == correct_password)"
   ]
  },
  {
   "cell_type": "code",
   "execution_count": 115,
   "id": "89f12924",
   "metadata": {},
   "outputs": [
    {
     "name": "stdout",
     "output_type": "stream",
     "text": [
      "Please enter your password\n",
      "xxx\n",
      "Correct password\n"
     ]
    }
   ],
   "source": [
    "correct_password = \"xxx\"\n",
    "\n",
    "number_att = 3\n",
    "\n",
    "print(\"Please enter your password\")\n",
    "\n",
    "att_password = input()\n",
    "\n",
    "if att_password != correct_password:\n",
    "    print(\"Incorrect password\")\n",
    "    \n",
    "    att_password = input()\n",
    "\n",
    "elif: \n",
    "    print(\"Correct password\")\n"
   ]
  },
  {
   "cell_type": "code",
   "execution_count": 121,
   "id": "a114424a",
   "metadata": {},
   "outputs": [],
   "source": [
    "password  = \"python\"\n",
    "repeats = 0\n",
    "\n",
    "while password != \"python\" and repeats < 4:\n",
    "    password = input(\"enter your password\")\n",
    "    repeats += 1"
   ]
  },
  {
   "cell_type": "code",
   "execution_count": 122,
   "id": "79af6281",
   "metadata": {},
   "outputs": [],
   "source": [
    "password  = \"python\"\n",
    "repeats = 0\n",
    "\n",
    "while password != \"python\" and repeats < 4:\n",
    "    password = input(\"enter your password\")\n",
    "    repeats += 1"
   ]
  },
  {
   "cell_type": "code",
   "execution_count": null,
   "id": "eb99df3d",
   "metadata": {},
   "outputs": [],
   "source": []
  }
 ],
 "metadata": {
  "kernelspec": {
   "display_name": "Python 3",
   "language": "python",
   "name": "python3"
  },
  "language_info": {
   "codemirror_mode": {
    "name": "ipython",
    "version": 3
   },
   "file_extension": ".py",
   "mimetype": "text/x-python",
   "name": "python",
   "nbconvert_exporter": "python",
   "pygments_lexer": "ipython3",
   "version": "3.8.8"
  }
 },
 "nbformat": 4,
 "nbformat_minor": 5
}
